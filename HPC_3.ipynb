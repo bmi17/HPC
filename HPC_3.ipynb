{
 "cells": [
  {
   "cell_type": "markdown",
   "metadata": {},
   "source": [
    "Problem Statement: Implement Min, Max, Sum and Average operations using Parallel Reduction. "
   ]
  },
  {
   "cell_type": "code",
   "execution_count": 2,
   "metadata": {
    "colab": {
     "base_uri": "https://localhost:8080/"
    },
    "executionInfo": {
     "elapsed": 2972,
     "status": "ok",
     "timestamp": 1713186489707,
     "user": {
      "displayName": "Sanu Deokar",
      "userId": "00930657188338054380"
     },
     "user_tz": -330
    },
    "id": "syX7_ladqpU4",
    "outputId": "230ed275-eb46-4237-9411-dfef824ac490"
   },
   "outputs": [
    {
     "name": "stdout",
     "output_type": "stream",
     "text": [
      "Reading package lists... Done\n",
      "Building dependency tree... Done\n",
      "Reading state information... Done\n",
      "g++ is already the newest version (4:11.2.0-1ubuntu1).\n",
      "g++ set to manually installed.\n",
      "0 upgraded, 0 newly installed, 0 to remove and 45 not upgraded.\n",
      "ln: failed to create symbolic link '/usr/local/bin/g++': File exists\n"
     ]
    }
   ],
   "source": [
    "!apt-get install g++\n",
    "!ln -s /usr/bin/g++ /usr/local/bin/g++"
   ]
  },
  {
   "cell_type": "code",
   "execution_count": 3,
   "metadata": {
    "colab": {
     "base_uri": "https://localhost:8080/"
    },
    "executionInfo": {
     "elapsed": 416,
     "status": "ok",
     "timestamp": 1713186506707,
     "user": {
      "displayName": "Sanu Deokar",
      "userId": "00930657188338054380"
     },
     "user_tz": -330
    },
    "id": "Wxgei1g7qz8h",
    "outputId": "3922766f-4771-4cff-8e82-a7a13e45be4a"
   },
   "outputs": [
    {
     "name": "stdout",
     "output_type": "stream",
     "text": [
      "Writing code6.cpp\n"
     ]
    }
   ],
   "source": [
    "%%writefile code6.cpp\n",
    "#include <iostream>\n",
    "//#include <vector>\n",
    "#include <omp.h>\n",
    "#include <climits>\n",
    "\n",
    "using namespace std;\n",
    "\n",
    "void min_reduction(int arr[], int n) {\n",
    "  int min_value = INT_MAX;\n",
    "  #pragma omp parallel for reduction(min: min_value)\n",
    "  for (int i = 0; i < n; i++) {\n",
    "\tif (arr[i] < min_value) {\n",
    "  \tmin_value = arr[i];\n",
    "\t}\n",
    "  }\n",
    "  cout << \"Minimum value: \" << min_value << endl;\n",
    "}\n",
    "\n",
    "void max_reduction(int arr[], int n) {\n",
    "  int max_value = INT_MIN;\n",
    "  #pragma omp parallel for reduction(max: max_value)\n",
    "  for (int i = 0; i < n; i++) {\n",
    "\tif (arr[i] > max_value) {\n",
    "  \tmax_value = arr[i];\n",
    "\t}\n",
    "  }\n",
    "  cout << \"Maximum value: \" << max_value << endl;\n",
    "}\n",
    "\n",
    "void sum_reduction(int arr[], int n) {\n",
    "  int sum = 0;\n",
    "   #pragma omp parallel for reduction(+: sum)\n",
    "   for (int i = 0; i < n; i++) {\n",
    "\tsum += arr[i];\n",
    "  }\n",
    "  cout << \"Sum: \" << sum << endl;\n",
    "}\n",
    "\n",
    "void average_reduction(int arr[], int n) {\n",
    "  int sum = 0;\n",
    "  #pragma omp parallel for reduction(+: sum)\n",
    "  for (int i = 0; i < n; i++) {\n",
    "\tsum += arr[i];\n",
    "  }\n",
    "  cout << \"Average: \" << (double)sum / (n-1) << endl;\n",
    "}\n",
    "\n",
    "int main() {\n",
    "    int *arr,n;\n",
    "    cout<<\"\\n enter total no of elements=>\";\n",
    "    cin>>n;\n",
    "    arr=new int[n];\n",
    "    cout<<\"\\n enter elements=>\";\n",
    "    for(int i=0;i<n;i++)\n",
    "    {\n",
    "   \t cin>>arr[i];\n",
    "    }\n",
    "\n",
    "//   int arr[] = {5, 2, 9, 1, 7, 6, 8, 3, 4};\n",
    "//   int n = size(arr);\n",
    "\n",
    "  min_reduction(arr, n);\n",
    "  max_reduction(arr, n);\n",
    "  sum_reduction(arr, n);\n",
    "  average_reduction(arr, n);\n",
    "}\n",
    "\n"
   ]
  },
  {
   "cell_type": "code",
   "execution_count": 5,
   "metadata": {
    "executionInfo": {
     "elapsed": 2031,
     "status": "ok",
     "timestamp": 1713186520293,
     "user": {
      "displayName": "Sanu Deokar",
      "userId": "00930657188338054380"
     },
     "user_tz": -330
    },
    "id": "A57K0n2hq3Xg"
   },
   "outputs": [],
   "source": [
    "!g++ -fopenmp -o code6 code6.cpp"
   ]
  },
  {
   "cell_type": "code",
   "execution_count": 6,
   "metadata": {
    "colab": {
     "base_uri": "https://localhost:8080/"
    },
    "executionInfo": {
     "elapsed": 28294,
     "status": "ok",
     "timestamp": 1713186551372,
     "user": {
      "displayName": "Sanu Deokar",
      "userId": "00930657188338054380"
     },
     "user_tz": -330
    },
    "id": "kRtD3XF6rArn",
    "outputId": "1ebcf425-9c15-4939-cef2-c5fd82e6146c"
   },
   "outputs": [
    {
     "name": "stdout",
     "output_type": "stream",
     "text": [
      "\n",
      " enter total no of elements=>5\n",
      "\n",
      " enter elements=>3 6 2 3 4\n",
      "Minimum value: 2\n",
      "Maximum value: 6\n",
      "Sum: 18\n",
      "Average: 4.5\n"
     ]
    }
   ],
   "source": [
    "!./code6"
   ]
  }
 ],
 "metadata": {
  "colab": {
   "provenance": []
  },
  "kernelspec": {
   "display_name": "Python 3 (ipykernel)",
   "language": "python",
   "name": "python3"
  },
  "language_info": {
   "codemirror_mode": {
    "name": "ipython",
    "version": 3
   },
   "file_extension": ".py",
   "mimetype": "text/x-python",
   "name": "python",
   "nbconvert_exporter": "python",
   "pygments_lexer": "ipython3",
   "version": "3.11.7"
  }
 },
 "nbformat": 4,
 "nbformat_minor": 4
}
