{
 "cells": [
  {
   "cell_type": "markdown",
   "metadata": {},
   "source": [
    "Problem Statement: Write a program to implment Parallel Bubble Sort. Use existing algorithms and measure the performance of sequectial and parallel algorithms. "
   ]
  },
  {
   "cell_type": "code",
   "execution_count": 1,
   "metadata": {
    "colab": {
     "base_uri": "https://localhost:8080/",
     "height": 0
    },
    "executionInfo": {
     "elapsed": 512,
     "status": "ok",
     "timestamp": 1713186116450,
     "user": {
      "displayName": "Sanu Deokar",
      "userId": "00930657188338054380"
     },
     "user_tz": -330
    },
    "id": "FB_tT_bDCgbk",
    "outputId": "ad9abdf8-6d2f-4988-f2a2-2a87ccb81474"
   },
   "outputs": [
    {
     "name": "stdout",
     "output_type": "stream",
     "text": [
      "Writing Bubblesort.cpp\n"
     ]
    }
   ],
   "source": [
    "%%writefile Bubblesort.cpp\n",
    "#include <iostream>\n",
    "#include <chrono>\n",
    "#include <omp.h>\n",
    "#include <stdio.h>\n",
    "#include <random>\n",
    "\n",
    "using namespace std;\n",
    "using namespace std::chrono;\n",
    "\n",
    "int random_in_range( int minimum, int maximum )\n",
    "{\n",
    "  thread_local std::ranlux48 rng(\n",
    "    std::chrono::system_clock::now().time_since_epoch().count() );\n",
    "  return std::uniform_int_distribution <int> ( minimum, maximum )( rng );\n",
    "}\n",
    "\n",
    "\n",
    "void bubbleSortSerial(int a[], int n)\n",
    "{\n",
    "\ttime_point<system_clock> starttime, endtime;\n",
    "\tstarttime = system_clock::now();\n",
    "\n",
    "\tfor (int i = 0; i < n-1; i++)\n",
    "\t{\n",
    "\t\tfor (int j = 0; j < n-1; j++)\n",
    "\t\t{\n",
    "\t\t\tif(a[j] > a[j+1])\n",
    "\t\t\t{\n",
    "\t\t\t\tint temp = a[j];\n",
    "\t\t\t\ta[j] = a[j+1];\n",
    "\t\t\t\ta[j+1] = temp;\n",
    "\t\t\t}\n",
    "\t\t}\n",
    "\t}\n",
    "\tendtime = system_clock::now();\n",
    "\tduration <double> time= endtime - starttime;\n",
    "\tcout<<\"Time for serial: \"<<1000*time.count()<<\" milliseconds\"<<endl;\n",
    "}\n",
    "\n",
    "void bubbleSortOddEven(int b[], int n)\n",
    "{\n",
    "\ttime_point<system_clock> starttime, endtime;\n",
    "\tstarttime = system_clock::now();\n",
    "\tint pass;\n",
    "\n",
    "\tfor(int i = 0 ; i < n-1 ; i++)\n",
    "\t{\n",
    "\t\tpass = i % 2;\n",
    "\t\tfor (int j = pass ; j < n-1 ; j+=2)\n",
    "\t\t{\n",
    "\t\t\tif(b[j]>b[j+1])\n",
    "\t\t\t{\n",
    "\t\t\t\tint temp = b[j];\n",
    "\t\t\t\tb[j] = b[j+1];\n",
    "\t\t\t\tb[j+1]=temp;\n",
    "\t\t\t}\n",
    "\t\t}\n",
    "\t}\n",
    "\tendtime = system_clock::now();\n",
    "\tduration<double> time = endtime - starttime;\n",
    "\tcout<<\"Time for Bubble sort (Odd Even Transposition): \"<<1000*time.count()<<\" milliseconds\"<<endl;\n",
    "}\n",
    "\n",
    "/*\n",
    "\n",
    "void bubbleSortParallel(int b[], int n)\n",
    "{\n",
    "\ttime_point<system_clock> starttime, endtime;\n",
    "\tstarttime = system_clock::now();\n",
    "\tint pass;\n",
    "\n",
    "\tomp_set_num_threads(2);\n",
    "\n",
    "\tfor(int i = 0 ; i < n-1 ; i++)\n",
    "\t{\n",
    "\t\tpass = i % 2;\n",
    "\t\t#pragma omp parallel for\n",
    "\t\tfor (int j = pass ; j < n-1 ; j+=2)\n",
    "\t\t{\n",
    "\t\t\tif(b[j]>b[j+1])\n",
    "\t\t\t{\n",
    "\t\t\t\tint temp = b[j];\n",
    "\t\t\t\tb[j] = b[j+1];\n",
    "\t\t\t\tb[j+1]=temp;\n",
    "\t\t\t}\n",
    "\t\t}\n",
    "\t}\n",
    "\tendtime = system_clock::now();\n",
    "\tduration<double> time = endtime - starttime;\n",
    "\tcout<<\"Time for Parallel: \"<<1000*time.count()<<\" milliseconds\"<<endl;\n",
    "}\n",
    "\n",
    "*/\n",
    "\n",
    "void init_array(int *arr1, int *arr2, int *arr3, int n) {\n",
    "\tint num;\n",
    "\tcout<<\"Enter \"<<n<<\" elements :\";\n",
    "\tfor(int i = 0 ; i < n ; i++) {\n",
    "\t\tcin>>num;\n",
    "\t\tarr1[i] = arr2[i] = arr3[i] = num;\n",
    "\t}\n",
    "}\n",
    "\n",
    "void print_array(int *arr, int n) {\n",
    "\tfor(int i = 0 ; i < n ; i++) {\n",
    "\t\tcout<<arr[i]<<\" \";\n",
    "\t}\n",
    "}\n",
    "\n",
    "int main()\n",
    "{\n",
    "\tint n;\n",
    "\tcout<<\"Enter value of n :\";\n",
    "\tcin>>n;\n",
    "\tint *a, *b, *c;\n",
    "\ta = new int[n];\n",
    "\tb = new int[n];\n",
    "\tc = new int[n];\n",
    "\tinit_array(a, b, c, n);\n",
    "\tcout<<\"Initial vector: \"<<endl;\n",
    "\tprint_array(a, n);\n",
    "\tcout<<endl;\n",
    "\tcout<<endl;\n",
    "\n",
    "\tbubbleSortSerial(a,n);\n",
    "\tcout<<\"Result after serial bubble sort: \"<<endl;\n",
    "\tprint_array(a, n);\n",
    "\n",
    "\tcout<<endl;\n",
    "\tcout<<endl;\n",
    "\n",
    "\tbubbleSortOddEven(c,n);\n",
    "\tcout<<\"Result after odd-even sort: \"<<endl;\n",
    "\tprint_array(c, n);\n",
    "\n",
    "  /*\n",
    "\tcout<<endl;\n",
    "\tcout<<endl;\n",
    "\tbubbleSortParallel(b,n);\n",
    "\tcout<<\"Result after parallel bubble sort: \"<<endl;\n",
    "\tprint_array(b, n);\n",
    "\tcout<<endl;\n",
    "  */\n",
    "\treturn 0;\n",
    "\n",
    "}\n"
   ]
  },
  {
   "cell_type": "code",
   "execution_count": 2,
   "metadata": {
    "executionInfo": {
     "elapsed": 1731,
     "status": "ok",
     "timestamp": 1713186129645,
     "user": {
      "displayName": "Sanu Deokar",
      "userId": "00930657188338054380"
     },
     "user_tz": -330
    },
    "id": "VyE-Mb4bDKdG"
   },
   "outputs": [],
   "source": [
    "!g++ -fopenmp Bubblesort.cpp -o Bubblesort_program"
   ]
  },
  {
   "cell_type": "code",
   "execution_count": 3,
   "metadata": {
    "colab": {
     "base_uri": "https://localhost:8080/",
     "height": 0
    },
    "executionInfo": {
     "elapsed": 17456,
     "status": "ok",
     "timestamp": 1713186149723,
     "user": {
      "displayName": "Sanu Deokar",
      "userId": "00930657188338054380"
     },
     "user_tz": -330
    },
    "id": "AG9muzu9DKgW",
    "outputId": "1ef2c87a-5cc9-4295-fa2c-36c5083fa7c7"
   },
   "outputs": [
    {
     "name": "stdout",
     "output_type": "stream",
     "text": [
      "Enter value of n :5\n",
      "Enter 5 elements :3 2 7 5 9 \n",
      "Initial vector: \n",
      "3 2 7 5 9 \n",
      "\n",
      "Time for serial: 0.000319 milliseconds\n",
      "Result after serial bubble sort: \n",
      "2 3 5 7 9 \n",
      "\n",
      "Time for Bubble sort (Odd Even Transposition): 0.000216 milliseconds\n",
      "Result after odd-even sort: \n",
      "2 3 5 7 9 "
     ]
    }
   ],
   "source": [
    "!./Bubblesort_program"
   ]
  },
  {
   "cell_type": "code",
   "execution_count": 4,
   "metadata": {
    "colab": {
     "base_uri": "https://localhost:8080/",
     "height": 0
    },
    "executionInfo": {
     "elapsed": 725,
     "status": "ok",
     "timestamp": 1713186154031,
     "user": {
      "displayName": "Sanu Deokar",
      "userId": "00930657188338054380"
     },
     "user_tz": -330
    },
    "id": "agykRjfyDIqO",
    "outputId": "a4fb3cea-830b-4414-b71b-810512b6d7b4"
   },
   "outputs": [
    {
     "name": "stdout",
     "output_type": "stream",
     "text": [
      "Writing Mergesort.cpp\n"
     ]
    }
   ],
   "source": [
    "%%writefile Mergesort.cpp\n",
    "#include <iostream>\n",
    "#include <chrono>\n",
    "#include <omp.h>\n",
    "#include <stdio.h>\n",
    "#include <random>\n",
    "#include <string.h>\n",
    "#include <stdlib.h>\n",
    "\n",
    "using namespace std;\n",
    "using namespace std::chrono;\n",
    "\n",
    "int random_in_range( int minimum, int maximum )\n",
    "{\n",
    "  thread_local std::ranlux48 rng(\n",
    "    std::chrono::system_clock::now().time_since_epoch().count() );\n",
    "  return std::uniform_int_distribution <int> ( minimum, maximum )( rng );\n",
    "}\n",
    "\n",
    "void merge(int *c1, int *c2, int *p, int cl1, int cl2) {\n",
    "\tint i = 0, j = 0, k = 0;\n",
    "\twhile(i < cl1 && j < cl2) {\n",
    "\t\tif(c1[i] < c2[j]) {\n",
    "\t\t\tp[k] = c1[i];\n",
    "\t\t\ti++;\n",
    "\t\t\tk++;\n",
    "\t\t}\n",
    "\t\telse {\n",
    "\t\t\tp[k] = c2[j];\n",
    "\t\t\tj++;\n",
    "\t\t\tk++;\n",
    "\t\t}\n",
    "\t}\n",
    "\twhile(i < cl1) {\n",
    "\t\tp[k] = c1[i];\n",
    "\t\ti++;\n",
    "\t\tk++;\n",
    "\t}\n",
    "\twhile(j < cl2) {\n",
    "\t\tp[k] = c2[j];\n",
    "\t\tj++;\n",
    "\t\tk++;\n",
    "\t}\n",
    "}\n",
    "\n",
    "void mergeSortSerial(int *arr, int length) {\n",
    "\tif(length <= 1)\n",
    "\t\treturn;\n",
    "\n",
    "\tint mid = length / 2;\n",
    "\n",
    "\tint *left = new int[mid];\n",
    "\tint *right = new int[length-mid];\n",
    "\n",
    "\tfor(int i = 0 ; i < mid ; i++) {\n",
    "\t\tleft[i] = arr[i];\n",
    "\t}\n",
    "\tfor(int i = mid ; i < length ; i++) {\n",
    "\t\tright[i-mid] = arr[i];\n",
    "\t}\n",
    "\tmergeSortSerial(left, mid);\n",
    "\tmergeSortSerial(right, length-mid);\n",
    "\tmerge(left, right, arr, mid, length-mid);\n",
    "}\n",
    "\n",
    "void mergeSortParallel(int *arr, int length) {\n",
    "\tif(length <= 1)\n",
    "\t\treturn;\n",
    "\tint mid = length / 2;\n",
    "\tint *left, *right;\n",
    "\tleft = new int[mid];\n",
    "\tright = new int[length-mid];\n",
    "\n",
    "\t#pragma omp task firstprivate(left)\n",
    "\t{\n",
    "\n",
    "\t\tfor(int i = 0 ; i < mid ; i++) {\n",
    "\t\t\tleft[i] = arr[i];\n",
    "\t\t}\n",
    "\t\tmergeSortParallel(left, mid);\n",
    "\t}\n",
    "\n",
    "\n",
    "\t#pragma omp task firstprivate(right)\n",
    "\t{\n",
    "\n",
    "\t\tfor(int i = mid ; i < length ; i++) {\n",
    "\t\t\tright[i-mid] = arr[i];\n",
    "\t\t}\n",
    "\n",
    "\t\tmergeSortParallel(right, length-mid);\n",
    "\t}\n",
    "\n",
    "\n",
    "\t// #pragma omp parallel sections\n",
    "\t// {\n",
    "\t// \t#pragma omp section\n",
    "\t// \t{\n",
    "\t// \t\tleft = new int[mid];\n",
    "\t// \t\tfor(int i = 0 ; i < mid ; i++) {\n",
    "\t// \t\t\tleft[i] = arr[i];\n",
    "\t// \t\t}\n",
    "\t// \t\tmergeSortParallel(left, mid);\n",
    "\t// \t}\n",
    "\t// \t#pragma omp section\n",
    "\t// \t{\n",
    "\t// \t\tright = new int[length-mid];\n",
    "\t// \t\tfor(int i = mid ; i < length ; i++) {\n",
    "\t// \t\t\tright[i-mid] = arr[i];\n",
    "\t// \t\t}\n",
    "\t// \t\tmergeSortParallel(right, length-mid);\n",
    "\t// \t}\n",
    "\t// }\n",
    "\t#pragma omp taskwait\n",
    "\tmerge(left, right, arr, mid, length-mid);\n",
    "}\n",
    "\n",
    "void init_array(int *arr1, int *arr2, int n) {\n",
    "\tcout<<\"Enter \"<<n<<\" elements :\";\n",
    "\tint num;\n",
    "\tfor(int i = 0 ; i < n ; i++) {\n",
    "\t\tcin>>num;\n",
    "\t\tarr1[i] = arr2[i] = num;\n",
    "\t}\n",
    "}\n",
    "\n",
    "void print_array(int *arr, int n) {\n",
    "\tfor(int i = 0 ; i < n ; i++) {\n",
    "\t\tcout<<arr[i]<<\" \";\n",
    "\t}\n",
    "}\n",
    "\n",
    "int main() {\n",
    "\tint n;\n",
    "\tcout<<\"Enter the value of n :\";\n",
    "\tcin>>n;\n",
    "\tint *a, *b;\n",
    "\ta = new int[n];\n",
    "\tb = new int[n];\n",
    "\n",
    "\tinit_array(a, b, n);\n",
    "\tcout<<\"Initial vector: \"<<endl;\n",
    "\tprint_array(a, n);\n",
    "\tcout<<endl;\n",
    "\tcout<<endl;\n",
    "\n",
    "\ttime_point<system_clock> starttime, endtime;\n",
    "\tstarttime = system_clock::now();\n",
    "\tmergeSortSerial(a, n);\n",
    "\tendtime = system_clock::now();\n",
    "\tduration<double> time = endtime - starttime;\n",
    "\tcout<<\"Time for serial: \"<<1000*time.count()<<\" milliseconds\"<<endl;\n",
    "\tcout<<\"Result after serial merge sort: \"<<endl;\n",
    "\tprint_array(a, n);\n",
    "\tcout<<endl;\n",
    "\tcout<<endl;\n",
    "\n",
    "\n",
    "\tstarttime = system_clock::now();\n",
    "\tmergeSortParallel(b, n);\n",
    "\tendtime = system_clock::now();\n",
    "\ttime = endtime - starttime;\n",
    "\tcout<<\"Time for parallel: \"<<1000*time.count()<<\" milliseconds\"<<endl;\n",
    "\tcout<<\"Result after parallel merge sort: \"<<endl;\n",
    "\tprint_array(b, n);\n",
    "\n",
    "\treturn 0;\n",
    "}\n"
   ]
  },
  {
   "cell_type": "code",
   "execution_count": 5,
   "metadata": {
    "executionInfo": {
     "elapsed": 713,
     "status": "ok",
     "timestamp": 1713186160578,
     "user": {
      "displayName": "Sanu Deokar",
      "userId": "00930657188338054380"
     },
     "user_tz": -330
    },
    "id": "ge8PFjkYD87o"
   },
   "outputs": [],
   "source": [
    "!g++ -fopenmp Mergesort.cpp -o Mergesort_program\n"
   ]
  },
  {
   "cell_type": "code",
   "execution_count": 6,
   "metadata": {
    "colab": {
     "base_uri": "https://localhost:8080/",
     "height": 0
    },
    "executionInfo": {
     "elapsed": 17661,
     "status": "ok",
     "timestamp": 1713186179879,
     "user": {
      "displayName": "Sanu Deokar",
      "userId": "00930657188338054380"
     },
     "user_tz": -330
    },
    "id": "RKXXZZ94ECcw",
    "outputId": "6e926b6d-880d-46a4-8d83-5d0569c7318f"
   },
   "outputs": [
    {
     "name": "stdout",
     "output_type": "stream",
     "text": [
      "Enter the value of n :5\n",
      "Enter 5 elements :3 2 7 5 9 \n",
      "Initial vector: \n",
      "3 2 7 5 9 \n",
      "\n",
      "Time for serial: 0.003151 milliseconds\n",
      "Result after serial merge sort: \n",
      "2 3 5 7 9 \n",
      "\n",
      "Time for parallel: 0.002728 milliseconds\n",
      "Result after parallel merge sort: \n",
      "2 3 5 7 9 "
     ]
    }
   ],
   "source": [
    "!./Mergesort_program"
   ]
  }
 ],
 "metadata": {
  "accelerator": "GPU",
  "colab": {
   "gpuType": "T4",
   "provenance": []
  },
  "kernelspec": {
   "display_name": "Python 3 (ipykernel)",
   "language": "python",
   "name": "python3"
  },
  "language_info": {
   "codemirror_mode": {
    "name": "ipython",
    "version": 3
   },
   "file_extension": ".py",
   "mimetype": "text/x-python",
   "name": "python",
   "nbconvert_exporter": "python",
   "pygments_lexer": "ipython3",
   "version": "3.11.7"
  }
 },
 "nbformat": 4,
 "nbformat_minor": 4
}
