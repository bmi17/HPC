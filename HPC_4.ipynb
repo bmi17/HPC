{
 "cells": [
  {
   "cell_type": "markdown",
   "metadata": {},
   "source": [
    "Problem Statement: Write a CUDA Program for:\n",
    "1. Addditon of two large vectors \n",
    "2. Matrix Multiplication using CUDA"
   ]
  },
  {
   "cell_type": "code",
   "execution_count": 1,
   "metadata": {
    "colab": {
     "base_uri": "https://localhost:8080/",
     "height": 0
    },
    "executionInfo": {
     "elapsed": 516,
     "status": "ok",
     "timestamp": 1713186624881,
     "user": {
      "displayName": "Sanu Deokar",
      "userId": "00930657188338054380"
     },
     "user_tz": -330
    },
    "id": "pGiYZjz2oAkw",
    "outputId": "939c4f86-fbdd-4a49-ecd1-503c833ffc00"
   },
   "outputs": [
    {
     "name": "stdout",
     "output_type": "stream",
     "text": [
      "nvcc: NVIDIA (R) Cuda compiler driver\n",
      "Copyright (c) 2005-2023 NVIDIA Corporation\n",
      "Built on Tue_Aug_15_22:02:13_PDT_2023\n",
      "Cuda compilation tools, release 12.2, V12.2.140\n",
      "Build cuda_12.2.r12.2/compiler.33191640_0\n"
     ]
    }
   ],
   "source": [
    "!nvcc --version"
   ]
  },
  {
   "cell_type": "code",
   "execution_count": 2,
   "metadata": {
    "colab": {
     "base_uri": "https://localhost:8080/",
     "height": 0
    },
    "executionInfo": {
     "elapsed": 12920,
     "status": "ok",
     "timestamp": 1713186640038,
     "user": {
      "displayName": "Sanu Deokar",
      "userId": "00930657188338054380"
     },
     "user_tz": -330
    },
    "id": "cMcLfkO6oBR_",
    "outputId": "362e48b7-6b4b-4949-f4e2-b906609e2d89"
   },
   "outputs": [
    {
     "name": "stdout",
     "output_type": "stream",
     "text": [
      "Collecting git+https://github.com/andreinechaev/nvcc4jupyter.git\n",
      "  Cloning https://github.com/andreinechaev/nvcc4jupyter.git to /tmp/pip-req-build-b7riqssx\n",
      "  Running command git clone --filter=blob:none --quiet https://github.com/andreinechaev/nvcc4jupyter.git /tmp/pip-req-build-b7riqssx\n",
      "  Resolved https://github.com/andreinechaev/nvcc4jupyter.git to commit 5741c522547756ac4bb7a16df32106a15efb8a57\n",
      "  Installing build dependencies ... \u001b[?25l\u001b[?25hdone\n",
      "  Getting requirements to build wheel ... \u001b[?25l\u001b[?25hdone\n",
      "  Preparing metadata (pyproject.toml) ... \u001b[?25l\u001b[?25hdone\n",
      "Building wheels for collected packages: nvcc4jupyter\n",
      "  Building wheel for nvcc4jupyter (pyproject.toml) ... \u001b[?25l\u001b[?25hdone\n",
      "  Created wheel for nvcc4jupyter: filename=nvcc4jupyter-1.2.1-py3-none-any.whl size=10739 sha256=652cfa192a926bb82952bbed8fb3fd55f14b7943e816ba632daed7a6d34f5441\n",
      "  Stored in directory: /tmp/pip-ephem-wheel-cache-_0ky53_a/wheels/a8/b9/18/23f8ef71ceb0f63297dd1903aedd067e6243a68ea756d6feea\n",
      "Successfully built nvcc4jupyter\n",
      "Installing collected packages: nvcc4jupyter\n",
      "Successfully installed nvcc4jupyter-1.2.1\n"
     ]
    }
   ],
   "source": [
    "!pip install git+https://github.com/andreinechaev/nvcc4jupyter.git"
   ]
  },
  {
   "cell_type": "code",
   "execution_count": 4,
   "metadata": {
    "colab": {
     "base_uri": "https://localhost:8080/",
     "height": 0
    },
    "executionInfo": {
     "elapsed": 2,
     "status": "ok",
     "timestamp": 1713186674545,
     "user": {
      "displayName": "Sanu Deokar",
      "userId": "00930657188338054380"
     },
     "user_tz": -330
    },
    "id": "_ur8OFgNoKpe",
    "outputId": "03a9e9a6-3a36-423e-deb5-1a43d2e0c35e"
   },
   "outputs": [
    {
     "name": "stdout",
     "output_type": "stream",
     "text": [
      "Writing matrixmul.cu\n"
     ]
    }
   ],
   "source": [
    "%%writefile \"matrixmul.cu\"\n",
    "#include <cuda_runtime.h>\n",
    "#include <iostream>\n",
    "using namespace std;\n",
    "\n",
    "__global__ void matmul(int* A, int* B, int* C, int N) {\n",
    "int Row = blockIdx.y*blockDim.y+threadIdx.y;\n",
    "int Col = blockIdx.x*blockDim.x+threadIdx.x;\n",
    "if (Row < N && Col < N) {\n",
    "  int Pvalue = 0;\n",
    "  for (int k = 0; k < N; k++) {\n",
    "    Pvalue += A[Row*N+k] * B[k*N+Col];\n",
    "  }\n",
    "  C[Row*N+Col] = Pvalue;\n",
    "  }\n",
    "}\n",
    "\n",
    "void take_input(int *A,int *B,int N)\n",
    "{\n",
    "  cout<<\"Enter \"<<N*N<<\" elements in matrix A :\";\n",
    "\n",
    "  for (int i=0;i<N*N;i++)\n",
    "  {\n",
    "    cin>>A[i];\n",
    "  }\n",
    "\n",
    "  cout<<\"Enter \"<<N*N<<\" elements in matrix B :\";\n",
    "\n",
    "  for (int i=0;i<N*N;i++)\n",
    "  {\n",
    "    cin>>B[i];\n",
    "  }\n",
    "\n",
    "}\n",
    "\n",
    "int main()\n",
    "{\n",
    "  int N = 2;\n",
    "  int size = N * N * sizeof(int);\n",
    "  int* A,* B,* C;\n",
    "  int* dev_A, * dev_B, * dev_C;\n",
    "\n",
    "  cudaMallocHost(&A, size);\n",
    "  cudaMallocHost(&B, size);\n",
    "  cudaMallocHost(&C, size);\n",
    "  cudaMalloc(&dev_A, size);\n",
    "  cudaMalloc(&dev_B, size);\n",
    "  cudaMalloc(&dev_C, size);\n",
    "\n",
    "  // Initialize matrices A and B\n",
    "\n",
    "  take_input(A,B,N);\n",
    "\n",
    "  cudaMemcpy(dev_A, A, size, cudaMemcpyHostToDevice);\n",
    "  cudaMemcpy(dev_B, B, size, cudaMemcpyHostToDevice);\n",
    "\n",
    "  dim3 dimBlock(2,2);\n",
    "  dim3 dimGrid(N/dimBlock.x, N/dimBlock.y);\n",
    "\n",
    "  matmul<<<dimGrid,dimBlock>>>(dev_A, dev_B, dev_C, N);\n",
    "  cudaMemcpy(C, dev_C,size,cudaMemcpyDeviceToHost);\n",
    "\n",
    "  // Print the result\n",
    "\n",
    "  cout<<\"Result of matrix multiplication :\\n\";\n",
    "\n",
    "  for (int i = 0; i < N; i++)\n",
    "  {\n",
    "    for (int j = 0; j < N; j++)\n",
    "    {\n",
    "      cout << C[i*N+j] << \" \";\n",
    "    }\n",
    "    cout << \"\\n\";\n",
    "  }\n",
    "  // Free memory\n",
    "  cudaFree(dev_A);\n",
    "  cudaFree(dev_B);\n",
    "  cudaFree(dev_C);\n",
    "  cudaFreeHost(A);\n",
    "  cudaFreeHost(B);\n",
    "  cudaFreeHost(C);\n",
    "  return 0;\n",
    "}"
   ]
  },
  {
   "cell_type": "code",
   "execution_count": 5,
   "metadata": {
    "executionInfo": {
     "elapsed": 3277,
     "status": "ok",
     "timestamp": 1713186682321,
     "user": {
      "displayName": "Sanu Deokar",
      "userId": "00930657188338054380"
     },
     "user_tz": -330
    },
    "id": "NDOwZKTnoUBe"
   },
   "outputs": [],
   "source": [
    "!nvcc matrixmul.cu"
   ]
  },
  {
   "cell_type": "code",
   "execution_count": 6,
   "metadata": {
    "colab": {
     "base_uri": "https://localhost:8080/",
     "height": 0
    },
    "executionInfo": {
     "elapsed": 21007,
     "status": "ok",
     "timestamp": 1713186706095,
     "user": {
      "displayName": "Sanu Deokar",
      "userId": "00930657188338054380"
     },
     "user_tz": -330
    },
    "id": "7VMT98D4om_n",
    "outputId": "7045feef-dc40-4ce4-fca9-dd3905a90bb2"
   },
   "outputs": [
    {
     "name": "stdout",
     "output_type": "stream",
     "text": [
      "Enter 4 elements in matrix A :2 3\n",
      "1 4\n",
      "Enter 4 elements in matrix B :1 2\n",
      "1 3\n",
      "Result of matrix multiplication :\n",
      "5 13 \n",
      "5 14 \n"
     ]
    }
   ],
   "source": [
    "!./a.out"
   ]
  },
  {
   "cell_type": "code",
   "execution_count": 7,
   "metadata": {
    "colab": {
     "base_uri": "https://localhost:8080/",
     "height": 0
    },
    "executionInfo": {
     "elapsed": 399,
     "status": "ok",
     "timestamp": 1713186710700,
     "user": {
      "displayName": "Sanu Deokar",
      "userId": "00930657188338054380"
     },
     "user_tz": -330
    },
    "id": "zc_dxYXyopE9",
    "outputId": "ed908da8-b368-4409-9dc2-2316cd88d7a7"
   },
   "outputs": [
    {
     "name": "stdout",
     "output_type": "stream",
     "text": [
      "Writing vectoradd.cu\n"
     ]
    }
   ],
   "source": [
    "%%writefile vectoradd.cu\n",
    "#include <iostream>\n",
    "#include <cuda_runtime.h>\n",
    "using namespace std;\n",
    "__global__ void addVectors(int* A, int* B, int* C, int n) {\n",
    "  int i = blockIdx.x * blockDim.x + threadIdx.x;\n",
    "  if (i < n) {\n",
    "  C[i] = A[i] + B[i];\n",
    "}\n",
    "}\n",
    "\n",
    "\n",
    "void takeinput(int *A,int *B,int n)\n",
    "{\n",
    "  cout<<\"Enter \"<<n<<\" elements for array A :\";\n",
    "  for (int i=0;i<n;i++)\n",
    "  {\n",
    "    cin>>A[i];\n",
    "  }\n",
    "  cout<<\"\\nEnter \"<<n<<\" elements for array B :\";\n",
    "  for (int j=0;j<n;j++)\n",
    "  {\n",
    "    cin>>B[j];\n",
    "  }\n",
    "}\n",
    "\n",
    "\n",
    "int main() {\n",
    "  int n = 10;\n",
    "  int* A, * B, * C;\n",
    "  int size = n * sizeof(int);\n",
    "  // Allocate memory on the host\n",
    "  cudaMallocHost(&A, size);\n",
    "  cudaMallocHost(&B, size);\n",
    "  cudaMallocHost(&C, size);\n",
    "  // Initialize the vectors\n",
    "\n",
    "  takeinput(A,B,n);\n",
    "\n",
    "  // Allocate memory on the device\n",
    "  int* dev_A, * dev_B, * dev_C;\n",
    "  cudaMalloc(&dev_A, size);\n",
    "  cudaMalloc(&dev_B, size);\n",
    "  cudaMalloc(&dev_C, size);\n",
    "  // Copy data from host to device\n",
    "  cudaMemcpy(dev_A, A, size, cudaMemcpyHostToDevice);\n",
    "  cudaMemcpy(dev_B, B, size, cudaMemcpyHostToDevice);\n",
    "  // Launch the kernel\n",
    "  //int blockSize = 256;\n",
    "  //int numBlocks = (n + blockSize - 1) / blockSize;\n",
    "\n",
    "  addVectors <<<1,n>>>(dev_A,dev_B,dev_C,n);\n",
    "\n",
    "  // Copy data from device to host\n",
    "  cudaMemcpy(C, dev_C, size, cudaMemcpyDeviceToHost);\n",
    "  // Print the results\n",
    "  cout<<\"\\nVector Addition Result  :\";\n",
    "  for (int i = 0; i < n; i++) {\n",
    "    cout << C[i] << \" \";\n",
    "  }\n",
    "  cout << endl;\n",
    "  // Free memory\n",
    "  cudaFree(dev_A);\n",
    "  cudaFree(dev_B);\n",
    "  cudaFree(dev_C);\n",
    "  cudaFreeHost(A);\n",
    "  cudaFreeHost(B);\n",
    "  cudaFreeHost(C);\n",
    "  return 0;\n",
    "}\n"
   ]
  },
  {
   "cell_type": "code",
   "execution_count": 8,
   "metadata": {
    "executionInfo": {
     "elapsed": 2386,
     "status": "ok",
     "timestamp": 1713186715773,
     "user": {
      "displayName": "Sanu Deokar",
      "userId": "00930657188338054380"
     },
     "user_tz": -330
    },
    "id": "i5wiFAQtK4WZ"
   },
   "outputs": [],
   "source": [
    "!nvcc vectoradd.cu"
   ]
  },
  {
   "cell_type": "code",
   "execution_count": 9,
   "metadata": {
    "colab": {
     "base_uri": "https://localhost:8080/",
     "height": 0
    },
    "executionInfo": {
     "elapsed": 26226,
     "status": "ok",
     "timestamp": 1713186744185,
     "user": {
      "displayName": "Sanu Deokar",
      "userId": "00930657188338054380"
     },
     "user_tz": -330
    },
    "id": "czY4dplqK6rg",
    "outputId": "7d90308e-1740-4b8a-bcad-290d24a68aa0"
   },
   "outputs": [
    {
     "name": "stdout",
     "output_type": "stream",
     "text": [
      "Enter 10 elements for array A :1 2 3 4 5 6 7 8 9 10\n",
      "\n",
      "Enter 10 elements for array B :10 9 8 7 6 5 4 3 2 1\n",
      "\n",
      "Vector Addition Result  :11 11 11 11 11 11 11 11 11 11 \n"
     ]
    }
   ],
   "source": [
    "!./a.out"
   ]
  }
 ],
 "metadata": {
  "accelerator": "GPU",
  "colab": {
   "gpuType": "T4",
   "provenance": []
  },
  "kernelspec": {
   "display_name": "Python 3 (ipykernel)",
   "language": "python",
   "name": "python3"
  },
  "language_info": {
   "codemirror_mode": {
    "name": "ipython",
    "version": 3
   },
   "file_extension": ".py",
   "mimetype": "text/x-python",
   "name": "python",
   "nbconvert_exporter": "python",
   "pygments_lexer": "ipython3",
   "version": "3.11.7"
  }
 },
 "nbformat": 4,
 "nbformat_minor": 4
}
